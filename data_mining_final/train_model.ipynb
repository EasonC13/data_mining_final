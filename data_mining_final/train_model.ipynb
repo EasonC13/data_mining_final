{
 "cells": [
  {
   "cell_type": "code",
   "execution_count": 1,
   "metadata": {
    "ExecuteTime": {
     "end_time": "2021-01-22T23:23:30.066596Z",
     "start_time": "2021-01-22T23:23:29.926694Z"
    }
   },
   "outputs": [],
   "source": [
    "import pandas as pd"
   ]
  },
  {
   "cell_type": "code",
   "execution_count": 2,
   "metadata": {
    "ExecuteTime": {
     "end_time": "2021-01-22T23:23:34.526802Z",
     "start_time": "2021-01-22T23:23:30.067574Z"
    }
   },
   "outputs": [],
   "source": [
    "df = pd.read_csv(\"../Data/final_ratings.csv\")"
   ]
  },
  {
   "cell_type": "code",
   "execution_count": 3,
   "metadata": {
    "ExecuteTime": {
     "end_time": "2021-01-22T23:23:34.537818Z",
     "start_time": "2021-01-22T23:23:34.529098Z"
    }
   },
   "outputs": [
    {
     "data": {
      "text/html": [
       "<div>\n",
       "<style scoped>\n",
       "    .dataframe tbody tr th:only-of-type {\n",
       "        vertical-align: middle;\n",
       "    }\n",
       "\n",
       "    .dataframe tbody tr th {\n",
       "        vertical-align: top;\n",
       "    }\n",
       "\n",
       "    .dataframe thead th {\n",
       "        text-align: right;\n",
       "    }\n",
       "</style>\n",
       "<table border=\"1\" class=\"dataframe\">\n",
       "  <thead>\n",
       "    <tr style=\"text-align: right;\">\n",
       "      <th></th>\n",
       "      <th>Unnamed: 0</th>\n",
       "      <th>userId</th>\n",
       "      <th>movieId</th>\n",
       "      <th>rating</th>\n",
       "      <th>y</th>\n",
       "      <th>n_ratings</th>\n",
       "    </tr>\n",
       "  </thead>\n",
       "  <tbody>\n",
       "    <tr>\n",
       "      <th>0</th>\n",
       "      <td>0</td>\n",
       "      <td>1</td>\n",
       "      <td>2</td>\n",
       "      <td>3.5</td>\n",
       "      <td>-0.2</td>\n",
       "      <td>22243</td>\n",
       "    </tr>\n",
       "    <tr>\n",
       "      <th>1</th>\n",
       "      <td>1</td>\n",
       "      <td>5</td>\n",
       "      <td>2</td>\n",
       "      <td>3.0</td>\n",
       "      <td>-0.7</td>\n",
       "      <td>22243</td>\n",
       "    </tr>\n",
       "    <tr>\n",
       "      <th>2</th>\n",
       "      <td>2</td>\n",
       "      <td>13</td>\n",
       "      <td>2</td>\n",
       "      <td>3.0</td>\n",
       "      <td>-0.7</td>\n",
       "      <td>22243</td>\n",
       "    </tr>\n",
       "    <tr>\n",
       "      <th>3</th>\n",
       "      <td>3</td>\n",
       "      <td>29</td>\n",
       "      <td>2</td>\n",
       "      <td>3.0</td>\n",
       "      <td>-0.7</td>\n",
       "      <td>22243</td>\n",
       "    </tr>\n",
       "    <tr>\n",
       "      <th>4</th>\n",
       "      <td>4</td>\n",
       "      <td>34</td>\n",
       "      <td>2</td>\n",
       "      <td>3.0</td>\n",
       "      <td>-0.7</td>\n",
       "      <td>22243</td>\n",
       "    </tr>\n",
       "  </tbody>\n",
       "</table>\n",
       "</div>"
      ],
      "text/plain": [
       "   Unnamed: 0  userId  movieId  rating    y  n_ratings\n",
       "0           0       1        2     3.5 -0.2      22243\n",
       "1           1       5        2     3.0 -0.7      22243\n",
       "2           2      13        2     3.0 -0.7      22243\n",
       "3           3      29        2     3.0 -0.7      22243\n",
       "4           4      34        2     3.0 -0.7      22243"
      ]
     },
     "execution_count": 3,
     "metadata": {},
     "output_type": "execute_result"
    }
   ],
   "source": [
    "df.head()"
   ]
  },
  {
   "cell_type": "code",
   "execution_count": 4,
   "metadata": {
    "ExecuteTime": {
     "end_time": "2021-01-22T23:23:35.320169Z",
     "start_time": "2021-01-22T23:23:34.538780Z"
    }
   },
   "outputs": [],
   "source": [
    "from tensorflow import keras\n",
    "import tensorflow as tf"
   ]
  },
  {
   "cell_type": "code",
   "execution_count": 5,
   "metadata": {
    "ExecuteTime": {
     "end_time": "2021-01-22T23:23:35.432737Z",
     "start_time": "2021-01-22T23:23:35.321185Z"
    }
   },
   "outputs": [],
   "source": [
    "user_input = keras.Input(shape = (1,), name = \"user_id\")\n",
    "movie_input = keras.Input(shape = (1,), name = \"movie_id\")\n",
    "Embedd_user = keras.layers.Embedding(df.userId.max()+10,30, name=\"Embedd_user\")(user_input)\n",
    "Embedd_movies = keras.layers.Embedding(df.movieId.max()+10,30, name=\"Embedd_movies\")(movie_input)\n",
    "Dot = keras.layers.Dot(2)([Embedd_user,Embedd_movies])\n",
    "Flatten = keras.layers.Flatten()(Dot)\n",
    "\n",
    "model = keras.Model(\n",
    "    inputs = [user_input, movie_input],\n",
    "    outputs = Flatten\n",
    ")\n",
    "\n",
    "model.compile(\n",
    "    tf.optimizers.Adam(0.005),\n",
    "    loss='MSE',\n",
    "    metrics=['MAE'],\n",
    ")"
   ]
  },
  {
   "cell_type": "code",
   "execution_count": 6,
   "metadata": {
    "ExecuteTime": {
     "end_time": "2021-01-22T23:23:35.436663Z",
     "start_time": "2021-01-22T23:23:35.433654Z"
    }
   },
   "outputs": [
    {
     "name": "stdout",
     "output_type": "stream",
     "text": [
      "Model: \"model\"\n",
      "__________________________________________________________________________________________________\n",
      "Layer (type)                    Output Shape         Param #     Connected to                     \n",
      "==================================================================================================\n",
      "user_id (InputLayer)            [(None, 1)]          0                                            \n",
      "__________________________________________________________________________________________________\n",
      "movie_id (InputLayer)           [(None, 1)]          0                                            \n",
      "__________________________________________________________________________________________________\n",
      "Embedd_user (Embedding)         (None, 1, 30)        4155090     user_id[0][0]                    \n",
      "__________________________________________________________________________________________________\n",
      "Embedd_movies (Embedding)       (None, 1, 30)        3938160     movie_id[0][0]                   \n",
      "__________________________________________________________________________________________________\n",
      "dot (Dot)                       (None, 1, 1)         0           Embedd_user[0][0]                \n",
      "                                                                 Embedd_movies[0][0]              \n",
      "__________________________________________________________________________________________________\n",
      "flatten (Flatten)               (None, 1)            0           dot[0][0]                        \n",
      "==================================================================================================\n",
      "Total params: 8,093,250\n",
      "Trainable params: 8,093,250\n",
      "Non-trainable params: 0\n",
      "__________________________________________________________________________________________________\n"
     ]
    }
   ],
   "source": [
    "model.summary()"
   ]
  },
  {
   "cell_type": "code",
   "execution_count": 7,
   "metadata": {
    "ExecuteTime": {
     "end_time": "2021-01-22T23:23:37.011217Z",
     "start_time": "2021-01-22T23:23:35.437992Z"
    }
   },
   "outputs": [],
   "source": [
    "from sklearn.model_selection import train_test_split\n",
    "u_train, u_test, m_train, m_test, r_train, r_test = train_test_split(df.userId, df.movieId, df.rating,\n",
    "                                                                     test_size= 0.005,\n",
    "                                                                    random_state = 875)"
   ]
  },
  {
   "cell_type": "code",
   "execution_count": 8,
   "metadata": {
    "ExecuteTime": {
     "end_time": "2021-01-22T23:23:37.025772Z",
     "start_time": "2021-01-22T23:23:37.012418Z"
    }
   },
   "outputs": [
    {
     "data": {
      "text/plain": [
       "1"
      ]
     },
     "execution_count": 8,
     "metadata": {},
     "output_type": "execute_result"
    }
   ],
   "source": [
    "m_train.min()"
   ]
  },
  {
   "cell_type": "code",
   "execution_count": 9,
   "metadata": {
    "ExecuteTime": {
     "end_time": "2021-01-22T23:28:28.418245Z",
     "start_time": "2021-01-22T23:23:37.026645Z"
    },
    "scrolled": true
   },
   "outputs": [
    {
     "name": "stdout",
     "output_type": "stream",
     "text": [
      "WARNING:tensorflow:Falling back from v2 loop because of error: Failed to find data adapter that can handle input: (<class 'list'> containing values of types {\"<class 'pandas.core.series.Series'>\"}), <class 'NoneType'>\n",
      "Train on 19900261 samples, validate on 100002 samples\n",
      "Epoch 1/40\n",
      "19900261/19900261 [==============================] - 7s 0us/sample - loss: 13.4215 - MAE: 3.5093 - val_loss: 12.8409 - val_MAE: 3.4275\n",
      "Epoch 2/40\n",
      "19900261/19900261 [==============================] - 7s 0us/sample - loss: 10.1314 - MAE: 2.9864 - val_loss: 6.0097 - val_MAE: 2.2368\n",
      "Epoch 3/40\n",
      "19900261/19900261 [==============================] - 7s 0us/sample - loss: 2.8703 - MAE: 1.4015 - val_loss: 1.1466 - val_MAE: 0.8355\n",
      "Epoch 4/40\n",
      "19900261/19900261 [==============================] - 7s 0us/sample - loss: 0.9521 - MAE: 0.7505 - val_loss: 0.8020 - val_MAE: 0.6883\n",
      "Epoch 5/40\n",
      "19900261/19900261 [==============================] - 7s 0us/sample - loss: 0.7724 - MAE: 0.6780 - val_loss: 0.7526 - val_MAE: 0.6671\n",
      "Epoch 6/40\n",
      "19900261/19900261 [==============================] - 7s 0us/sample - loss: 0.7453 - MAE: 0.6626 - val_loss: 0.7426 - val_MAE: 0.6610\n",
      "Epoch 7/40\n",
      "19900261/19900261 [==============================] - 7s 0us/sample - loss: 0.7391 - MAE: 0.6601 - val_loss: 0.7399 - val_MAE: 0.6600\n",
      "Epoch 8/40\n",
      "19900261/19900261 [==============================] - 7s 0us/sample - loss: 0.7367 - MAE: 0.6590 - val_loss: 0.7383 - val_MAE: 0.6592\n",
      "Epoch 9/40\n",
      "19900261/19900261 [==============================] - 7s 0us/sample - loss: 0.7354 - MAE: 0.6585 - val_loss: 0.7368 - val_MAE: 0.6586\n",
      "Epoch 10/40\n",
      "19900261/19900261 [==============================] - 7s 0us/sample - loss: 0.7343 - MAE: 0.6580 - val_loss: 0.7364 - val_MAE: 0.6585\n",
      "Epoch 11/40\n",
      "19900261/19900261 [==============================] - 7s 0us/sample - loss: 0.7333 - MAE: 0.6576 - val_loss: 0.7351 - val_MAE: 0.6579\n",
      "Epoch 12/40\n",
      "19900261/19900261 [==============================] - 7s 0us/sample - loss: 0.7323 - MAE: 0.6572 - val_loss: 0.7345 - val_MAE: 0.6576\n",
      "Epoch 13/40\n",
      "19900261/19900261 [==============================] - 7s 0us/sample - loss: 0.7311 - MAE: 0.6566 - val_loss: 0.7334 - val_MAE: 0.6572\n",
      "Epoch 14/40\n",
      "19900261/19900261 [==============================] - 7s 0us/sample - loss: 0.7295 - MAE: 0.6559 - val_loss: 0.7319 - val_MAE: 0.6564\n",
      "Epoch 15/40\n",
      "19900261/19900261 [==============================] - 7s 0us/sample - loss: 0.7273 - MAE: 0.6549 - val_loss: 0.7296 - val_MAE: 0.6555\n",
      "Epoch 16/40\n",
      "19900261/19900261 [==============================] - 7s 0us/sample - loss: 0.7242 - MAE: 0.6535 - val_loss: 0.7266 - val_MAE: 0.6539\n",
      "Epoch 17/40\n",
      "19900261/19900261 [==============================] - 7s 0us/sample - loss: 0.7199 - MAE: 0.6515 - val_loss: 0.7219 - val_MAE: 0.6519\n",
      "Epoch 18/40\n",
      "19900261/19900261 [==============================] - 7s 0us/sample - loss: 0.7140 - MAE: 0.6487 - val_loss: 0.7165 - val_MAE: 0.6489\n",
      "Epoch 19/40\n",
      "19900261/19900261 [==============================] - 7s 0us/sample - loss: 0.7062 - MAE: 0.6450 - val_loss: 0.7085 - val_MAE: 0.6452\n",
      "Epoch 20/40\n",
      "19900261/19900261 [==============================] - 7s 0us/sample - loss: 0.6968 - MAE: 0.6404 - val_loss: 0.7003 - val_MAE: 0.6408\n",
      "Epoch 21/40\n",
      "19900261/19900261 [==============================] - 7s 0us/sample - loss: 0.6865 - MAE: 0.6353 - val_loss: 0.6921 - val_MAE: 0.6365\n",
      "Epoch 22/40\n",
      "19900261/19900261 [==============================] - 7s 0us/sample - loss: 0.6763 - MAE: 0.6303 - val_loss: 0.6840 - val_MAE: 0.6325\n",
      "Epoch 23/40\n",
      "19900261/19900261 [==============================] - 7s 0us/sample - loss: 0.6668 - MAE: 0.6255 - val_loss: 0.6776 - val_MAE: 0.6292\n",
      "Epoch 24/40\n",
      "19900261/19900261 [==============================] - 7s 0us/sample - loss: 0.6579 - MAE: 0.6211 - val_loss: 0.6717 - val_MAE: 0.6263\n",
      "Epoch 25/40\n",
      "19900261/19900261 [==============================] - 7s 0us/sample - loss: 0.6495 - MAE: 0.6171 - val_loss: 0.6660 - val_MAE: 0.6235\n",
      "Epoch 26/40\n",
      "19900261/19900261 [==============================] - 7s 0us/sample - loss: 0.6413 - MAE: 0.6131 - val_loss: 0.6611 - val_MAE: 0.6210\n",
      "Epoch 27/40\n",
      "19900261/19900261 [==============================] - 7s 0us/sample - loss: 0.6331 - MAE: 0.6091 - val_loss: 0.6562 - val_MAE: 0.6186\n",
      "Epoch 28/40\n",
      "19900261/19900261 [==============================] - 7s 0us/sample - loss: 0.6249 - MAE: 0.6051 - val_loss: 0.6516 - val_MAE: 0.6164\n",
      "Epoch 29/40\n",
      "19900261/19900261 [==============================] - 7s 0us/sample - loss: 0.6166 - MAE: 0.6010 - val_loss: 0.6468 - val_MAE: 0.6141\n",
      "Epoch 30/40\n",
      "19900261/19900261 [==============================] - 7s 0us/sample - loss: 0.6085 - MAE: 0.5970 - val_loss: 0.6431 - val_MAE: 0.6121\n",
      "Epoch 31/40\n",
      "19900261/19900261 [==============================] - 7s 0us/sample - loss: 0.6005 - MAE: 0.5930 - val_loss: 0.6386 - val_MAE: 0.6097\n",
      "Epoch 32/40\n",
      "19900261/19900261 [==============================] - 7s 0us/sample - loss: 0.5927 - MAE: 0.5890 - val_loss: 0.6352 - val_MAE: 0.6080\n",
      "Epoch 33/40\n",
      "19900261/19900261 [==============================] - 7s 0us/sample - loss: 0.5849 - MAE: 0.5851 - val_loss: 0.6320 - val_MAE: 0.6062\n",
      "Epoch 34/40\n",
      "19900261/19900261 [==============================] - 7s 0us/sample - loss: 0.5774 - MAE: 0.5812 - val_loss: 0.6290 - val_MAE: 0.6046\n",
      "Epoch 35/40\n",
      "19900261/19900261 [==============================] - 7s 0us/sample - loss: 0.5699 - MAE: 0.5773 - val_loss: 0.6259 - val_MAE: 0.6029\n",
      "Epoch 36/40\n",
      "19900261/19900261 [==============================] - 7s 0us/sample - loss: 0.5625 - MAE: 0.5734 - val_loss: 0.6236 - val_MAE: 0.6016\n",
      "Epoch 37/40\n",
      "19900261/19900261 [==============================] - 7s 0us/sample - loss: 0.5552 - MAE: 0.5696 - val_loss: 0.6208 - val_MAE: 0.6000\n",
      "Epoch 38/40\n",
      "19900261/19900261 [==============================] - 7s 0us/sample - loss: 0.5479 - MAE: 0.5657 - val_loss: 0.6190 - val_MAE: 0.5993\n",
      "Epoch 39/40\n",
      "19900261/19900261 [==============================] - 7s 0us/sample - loss: 0.5408 - MAE: 0.5619 - val_loss: 0.6171 - val_MAE: 0.5981\n",
      "Epoch 40/40\n",
      "19900261/19900261 [==============================] - 7s 0us/sample - loss: 0.5338 - MAE: 0.5582 - val_loss: 0.6155 - val_MAE: 0.5972\n"
     ]
    },
    {
     "data": {
      "text/plain": [
       "<tensorflow.python.keras.callbacks.History at 0x7fbf4824dc90>"
      ]
     },
     "execution_count": 9,
     "metadata": {},
     "output_type": "execute_result"
    }
   ],
   "source": [
    "model.fit(x = [u_train, m_train], y = r_train, epochs= 40, batch_size= 800000, validation_data=([u_test, m_test], r_test))"
   ]
  },
  {
   "cell_type": "code",
   "execution_count": 10,
   "metadata": {
    "ExecuteTime": {
     "end_time": "2021-01-22T23:28:31.493868Z",
     "start_time": "2021-01-22T23:28:28.419112Z"
    }
   },
   "outputs": [
    {
     "name": "stdout",
     "output_type": "stream",
     "text": [
      "WARNING:tensorflow:Falling back from v2 loop because of error: Failed to find data adapter that can handle input: (<class 'list'> containing values of types {\"<class 'pandas.core.series.Series'>\"}), <class 'NoneType'>\n",
      "WARNING:tensorflow:Falling back from v2 loop because of error: Failed to find data adapter that can handle input: (<class 'list'> containing values of types {\"<class 'pandas.core.series.Series'>\"}), <class 'NoneType'>\n",
      "CPU times: user 8.43 s, sys: 2.39 s, total: 10.8 s\n",
      "Wall time: 3.07 s\n"
     ]
    }
   ],
   "source": [
    "%%time\n",
    "train_result = model.predict([u_train, m_train], batch_size= 800000).reshape(-1) - r_train\n",
    "train_mean=abs(train_result).mean()\n",
    "train_std = train_result.std()\n",
    "\n",
    "\n",
    "test_result = model.predict([u_test, m_test], batch_size= 800000).reshape(-1) - r_test\n",
    "test_mean = abs(test_result).mean()\n",
    "test_std = test_result.std()\n",
    "\n"
   ]
  },
  {
   "cell_type": "code",
   "execution_count": 11,
   "metadata": {
    "ExecuteTime": {
     "end_time": "2021-01-22T23:28:31.497242Z",
     "start_time": "2021-01-22T23:28:31.494816Z"
    }
   },
   "outputs": [
    {
     "name": "stdout",
     "output_type": "stream",
     "text": [
      "結果出來了，訓練結果：\n",
      "訓練資料 abs(loss).mean() = 0.5525054354229684 標準差 = 0.7234922604390132\n",
      "測試資料 abs(loss).mean() = 0.5971942899042904 標準差 = 0.7845180634641342\n"
     ]
    }
   ],
   "source": [
    "result = f\"\"\"結果出來了，訓練結果：\n",
    "訓練資料 abs(loss).mean() = {train_mean} 標準差 = {str(train_std)}\n",
    "測試資料 abs(loss).mean() = {str(test_mean)} 標準差 = {str(test_std)}\"\"\"\n",
    "print(result)"
   ]
  },
  {
   "cell_type": "code",
   "execution_count": 12,
   "metadata": {
    "ExecuteTime": {
     "end_time": "2021-01-22T23:28:31.669697Z",
     "start_time": "2021-01-22T23:28:31.498253Z"
    }
   },
   "outputs": [],
   "source": [
    "model.save(\"0109_Embedding_user_movie_30.h5\")"
   ]
  },
  {
   "cell_type": "code",
   "execution_count": 13,
   "metadata": {
    "ExecuteTime": {
     "end_time": "2021-01-22T23:28:31.673689Z",
     "start_time": "2021-01-22T23:28:31.670675Z"
    }
   },
   "outputs": [
    {
     "data": {
      "text/plain": [
       "2654046     0.475652\n",
       "9333374    -0.757320\n",
       "12636627   -0.553151\n",
       "12371374    0.573857\n",
       "16601336    0.411088\n",
       "              ...   \n",
       "11123693    0.152482\n",
       "10045515   -0.294551\n",
       "5202555     0.042824\n",
       "2274953    -1.185220\n",
       "4241757     0.200929\n",
       "Name: rating, Length: 100002, dtype: float64"
      ]
     },
     "execution_count": 13,
     "metadata": {},
     "output_type": "execute_result"
    }
   ],
   "source": [
    "test_result"
   ]
  },
  {
   "cell_type": "code",
   "execution_count": 14,
   "metadata": {
    "ExecuteTime": {
     "end_time": "2021-01-22T23:28:32.345968Z",
     "start_time": "2021-01-22T23:28:31.674448Z"
    }
   },
   "outputs": [
    {
     "data": {
      "image/png": "[encoded data removed]",
      "text/plain": [
       "<Figure size 432x288 with 1 Axes>"
      ]
     },
     "metadata": {
      "needs_background": "light"
     },
     "output_type": "display_data"
    }
   ],
   "source": [
    "import matplotlib.pyplot as plt\n",
    "import matplotlib.mlab as mlab  \n",
    "plt.hist(test_result, bins= 30, alpha=0.1)\n",
    "num_bins = 50 \n",
    "n, bins, patches = plt.hist(test_result, num_bins, alpha=0.5)  \n",
    "\n",
    "\n",
    "from scipy.stats import norm\n",
    "y=norm.pdf(bins, test_result.mean(), test_result.std())\n",
    "\n",
    "\n",
    "plt.plot(bins, y, 'r--')  \n",
    "\n",
    "\n",
    "plt.subplots_adjust(left=0.15)  \n",
    "plt.show()"
   ]
  },
  {
   "cell_type": "markdown",
   "metadata": {},
   "source": [
    "可以看到，結果在以零為中心點，呈現常態分佈\n",
    "\n",
    "顯示此模型是有效的"
   ]
  },
  {
   "cell_type": "code",
   "execution_count": 15,
   "metadata": {
    "ExecuteTime": {
     "end_time": "2021-01-22T23:28:32.403411Z",
     "start_time": "2021-01-22T23:28:32.347029Z"
    }
   },
   "outputs": [],
   "source": [
    "import numpy as np\n",
    "movieId = np.array(range(1, 100000)).reshape(-1)\n",
    "userId = np.array([2] * len(movieId)).reshape(-1)\n",
    "result = model.predict((userId, movieId), batch_size=100000)"
   ]
  },
  {
   "cell_type": "code",
   "execution_count": 16,
   "metadata": {
    "ExecuteTime": {
     "end_time": "2021-01-22T23:28:32.406075Z",
     "start_time": "2021-01-22T23:28:32.404311Z"
    }
   },
   "outputs": [],
   "source": [
    "result_df = pd.DataFrame()"
   ]
  },
  {
   "cell_type": "code",
   "execution_count": 17,
   "metadata": {
    "ExecuteTime": {
     "end_time": "2021-01-22T23:28:32.422777Z",
     "start_time": "2021-01-22T23:28:32.406892Z"
    }
   },
   "outputs": [],
   "source": [
    "movie_df = pd.read_csv(\"../Data/final_movies.csv\")"
   ]
  },
  {
   "cell_type": "code",
   "execution_count": 18,
   "metadata": {
    "ExecuteTime": {
     "end_time": "2021-01-22T23:28:33.664795Z",
     "start_time": "2021-01-22T23:28:32.423649Z"
    }
   },
   "outputs": [],
   "source": [
    "movie_id_title_mapping = {}\n",
    "for _, row in movie_df.iterrows():\n",
    "    movie_id_title_mapping[row[\"movieId\"]] = row[\"title\"]"
   ]
  },
  {
   "cell_type": "code",
   "execution_count": 19,
   "metadata": {
    "ExecuteTime": {
     "end_time": "2021-01-22T23:28:33.687569Z",
     "start_time": "2021-01-22T23:28:33.665834Z"
    }
   },
   "outputs": [],
   "source": [
    "result_df[\"user\"] = userId\n",
    "result_df[\"movieId\"] = movieId\n",
    "result_df[\"title\"] = result_df[\"movieId\"].apply(lambda x: movie_id_title_mapping.setdefault(x))\n",
    "result_df[\"predict\"] = result"
   ]
  },
  {
   "cell_type": "code",
   "execution_count": 20,
   "metadata": {
    "ExecuteTime": {
     "end_time": "2021-01-22T23:28:33.702274Z",
     "start_time": "2021-01-22T23:28:33.688436Z"
    }
   },
   "outputs": [
    {
     "data": {
      "text/html": [
       "<div>\n",
       "<style scoped>\n",
       "    .dataframe tbody tr th:only-of-type {\n",
       "        vertical-align: middle;\n",
       "    }\n",
       "\n",
       "    .dataframe tbody tr th {\n",
       "        vertical-align: top;\n",
       "    }\n",
       "\n",
       "    .dataframe thead th {\n",
       "        text-align: right;\n",
       "    }\n",
       "</style>\n",
       "<table border=\"1\" class=\"dataframe\">\n",
       "  <thead>\n",
       "    <tr style=\"text-align: right;\">\n",
       "      <th></th>\n",
       "      <th>user</th>\n",
       "      <th>movieId</th>\n",
       "      <th>title</th>\n",
       "      <th>predict</th>\n",
       "    </tr>\n",
       "  </thead>\n",
       "  <tbody>\n",
       "    <tr>\n",
       "      <th>79841</th>\n",
       "      <td>2</td>\n",
       "      <td>79842</td>\n",
       "      <td>For Neda</td>\n",
       "      <td>5.941921</td>\n",
       "    </tr>\n",
       "    <tr>\n",
       "      <th>73364</th>\n",
       "      <td>2</td>\n",
       "      <td>73365</td>\n",
       "      <td>Dead Time: Kala</td>\n",
       "      <td>5.747890</td>\n",
       "    </tr>\n",
       "    <tr>\n",
       "      <th>98274</th>\n",
       "      <td>2</td>\n",
       "      <td>98275</td>\n",
       "      <td>Octopus, The (Le poulpe)</td>\n",
       "      <td>5.684314</td>\n",
       "    </tr>\n",
       "    <tr>\n",
       "      <th>88569</th>\n",
       "      <td>2</td>\n",
       "      <td>88570</td>\n",
       "      <td>Welfare</td>\n",
       "      <td>5.642259</td>\n",
       "    </tr>\n",
       "    <tr>\n",
       "      <th>77735</th>\n",
       "      <td>2</td>\n",
       "      <td>77736</td>\n",
       "      <td>Crazy Stone (Fengkuang de shitou)</td>\n",
       "      <td>5.631209</td>\n",
       "    </tr>\n",
       "    <tr>\n",
       "      <th>56778</th>\n",
       "      <td>2</td>\n",
       "      <td>56779</td>\n",
       "      <td>I Don't Want to Sleep Alone (Hei yan quan)</td>\n",
       "      <td>5.613787</td>\n",
       "    </tr>\n",
       "    <tr>\n",
       "      <th>94805</th>\n",
       "      <td>2</td>\n",
       "      <td>94806</td>\n",
       "      <td>The Secrets of Jonathan Sperry</td>\n",
       "      <td>5.590261</td>\n",
       "    </tr>\n",
       "    <tr>\n",
       "      <th>85011</th>\n",
       "      <td>2</td>\n",
       "      <td>85012</td>\n",
       "      <td>Given Word, The (O Pagador de Promessas)</td>\n",
       "      <td>5.567002</td>\n",
       "    </tr>\n",
       "    <tr>\n",
       "      <th>56868</th>\n",
       "      <td>2</td>\n",
       "      <td>56869</td>\n",
       "      <td>Drained (O cheiro do Ralo)</td>\n",
       "      <td>5.562891</td>\n",
       "    </tr>\n",
       "    <tr>\n",
       "      <th>57647</th>\n",
       "      <td>2</td>\n",
       "      <td>57648</td>\n",
       "      <td>The Green Man</td>\n",
       "      <td>5.536143</td>\n",
       "    </tr>\n",
       "    <tr>\n",
       "      <th>30763</th>\n",
       "      <td>2</td>\n",
       "      <td>30764</td>\n",
       "      <td>The Mahabharata</td>\n",
       "      <td>5.533641</td>\n",
       "    </tr>\n",
       "    <tr>\n",
       "      <th>96949</th>\n",
       "      <td>2</td>\n",
       "      <td>96950</td>\n",
       "      <td>Guilty (Présumé coupable)</td>\n",
       "      <td>5.530848</td>\n",
       "    </tr>\n",
       "    <tr>\n",
       "      <th>7567</th>\n",
       "      <td>2</td>\n",
       "      <td>7568</td>\n",
       "      <td>Love Life</td>\n",
       "      <td>5.474332</td>\n",
       "    </tr>\n",
       "    <tr>\n",
       "      <th>56547</th>\n",
       "      <td>2</td>\n",
       "      <td>56548</td>\n",
       "      <td>All Passion Spent</td>\n",
       "      <td>5.458847</td>\n",
       "    </tr>\n",
       "    <tr>\n",
       "      <th>89055</th>\n",
       "      <td>2</td>\n",
       "      <td>89056</td>\n",
       "      <td>Company: Original Cast Album</td>\n",
       "      <td>5.437136</td>\n",
       "    </tr>\n",
       "    <tr>\n",
       "      <th>84795</th>\n",
       "      <td>2</td>\n",
       "      <td>84796</td>\n",
       "      <td>8 Diagram Pole Fighter, The (a.k.a. Invincible...</td>\n",
       "      <td>5.434583</td>\n",
       "    </tr>\n",
       "    <tr>\n",
       "      <th>3225</th>\n",
       "      <td>2</td>\n",
       "      <td>3226</td>\n",
       "      <td>Hellhounds on My Trail</td>\n",
       "      <td>5.433205</td>\n",
       "    </tr>\n",
       "    <tr>\n",
       "      <th>85204</th>\n",
       "      <td>2</td>\n",
       "      <td>85205</td>\n",
       "      <td>The Merry Widow</td>\n",
       "      <td>5.400628</td>\n",
       "    </tr>\n",
       "    <tr>\n",
       "      <th>95532</th>\n",
       "      <td>2</td>\n",
       "      <td>95533</td>\n",
       "      <td>Coup de grâce (Der Fangschuß)</td>\n",
       "      <td>5.399943</td>\n",
       "    </tr>\n",
       "    <tr>\n",
       "      <th>51401</th>\n",
       "      <td>2</td>\n",
       "      <td>51402</td>\n",
       "      <td>Forest for the Trees, The (Der Wald vor lauter...</td>\n",
       "      <td>5.397581</td>\n",
       "    </tr>\n",
       "  </tbody>\n",
       "</table>\n",
       "</div>"
      ],
      "text/plain": [
       "       user  movieId                                              title  \\\n",
       "79841     2    79842                                           For Neda   \n",
       "73364     2    73365                                    Dead Time: Kala   \n",
       "98274     2    98275                           Octopus, The (Le poulpe)   \n",
       "88569     2    88570                                            Welfare   \n",
       "77735     2    77736                  Crazy Stone (Fengkuang de shitou)   \n",
       "56778     2    56779         I Don't Want to Sleep Alone (Hei yan quan)   \n",
       "94805     2    94806                     The Secrets of Jonathan Sperry   \n",
       "85011     2    85012           Given Word, The (O Pagador de Promessas)   \n",
       "56868     2    56869                         Drained (O cheiro do Ralo)   \n",
       "57647     2    57648                                      The Green Man   \n",
       "30763     2    30764                                    The Mahabharata   \n",
       "96949     2    96950                          Guilty (Présumé coupable)   \n",
       "7567      2     7568                                          Love Life   \n",
       "56547     2    56548                                  All Passion Spent   \n",
       "89055     2    89056                       Company: Original Cast Album   \n",
       "84795     2    84796  8 Diagram Pole Fighter, The (a.k.a. Invincible...   \n",
       "3225      2     3226                             Hellhounds on My Trail   \n",
       "85204     2    85205                                    The Merry Widow   \n",
       "95532     2    95533                      Coup de grâce (Der Fangschuß)   \n",
       "51401     2    51402  Forest for the Trees, The (Der Wald vor lauter...   \n",
       "\n",
       "        predict  \n",
       "79841  5.941921  \n",
       "73364  5.747890  \n",
       "98274  5.684314  \n",
       "88569  5.642259  \n",
       "77735  5.631209  \n",
       "56778  5.613787  \n",
       "94805  5.590261  \n",
       "85011  5.567002  \n",
       "56868  5.562891  \n",
       "57647  5.536143  \n",
       "30763  5.533641  \n",
       "96949  5.530848  \n",
       "7567   5.474332  \n",
       "56547  5.458847  \n",
       "89055  5.437136  \n",
       "84795  5.434583  \n",
       "3225   5.433205  \n",
       "85204  5.400628  \n",
       "95532  5.399943  \n",
       "51401  5.397581  "
      ]
     },
     "execution_count": 20,
     "metadata": {},
     "output_type": "execute_result"
    }
   ],
   "source": [
    "result_df.sort_values(\"predict\", ascending=False).head(20)"
   ]
  },
  {
   "cell_type": "code",
   "execution_count": null,
   "metadata": {},
   "outputs": [],
   "source": []
  }
 ],
 "metadata": {
  "hide_input": false,
  "kernelspec": {
   "display_name": "Python 3",
   "language": "python",
   "name": "python3"
  },
  "language_info": {
   "codemirror_mode": {
    "name": "ipython",
    "version": 3
   },
   "file_extension": ".py",
   "mimetype": "text/x-python",
   "name": "python",
   "nbconvert_exporter": "python",
   "pygments_lexer": "ipython3",
   "version": "3.7.4"
  },
  "varInspector": {
   "cols": {
    "lenName": 16,
    "lenType": 16,
    "lenVar": 40
   },
   "kernels_config": {
    "python": {
     "delete_cmd_postfix": "",
     "delete_cmd_prefix": "del ",
     "library": "var_list.py",
     "varRefreshCmd": "print(var_dic_list())"
    },
    "r": {
     "delete_cmd_postfix": ") ",
     "delete_cmd_prefix": "rm(",
     "library": "var_list.r",
     "varRefreshCmd": "cat(var_dic_list()) "
    }
   },
   "types_to_exclude": [
    "module",
    "function",
    "builtin_function_or_method",
    "instance",
    "_Feature"
   ],
   "window_display": false
  }
 },
 "nbformat": 4,
 "nbformat_minor": 4
}
